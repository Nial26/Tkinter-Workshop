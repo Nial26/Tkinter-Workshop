{
 "cells": [
  {
   "cell_type": "code",
   "execution_count": 1,
   "metadata": {
    "collapsed": true
   },
   "outputs": [],
   "source": [
    "import tkinter as tk\n",
    "import time"
   ]
  },
  {
   "cell_type": "code",
   "execution_count": 2,
   "metadata": {
    "collapsed": false
   },
   "outputs": [],
   "source": [
    "#Discuss about the implication of extending existing widget class and composition, MVC, structuring code and stuff like that\n",
    "\n",
    "class Clock:\n",
    "    def __init__(self, parent):\n",
    "        self.parent = parent\n",
    "        self.current_time = tk.StringVar()\n",
    "        self.label = tk.Label(parent, textvariable = self.current_time)\n",
    "        self.label.pack(expand = True)\n",
    "        self.update_time()\n",
    "    \n",
    "    def update_time(self):\n",
    "        time_struct = time.localtime()\n",
    "        hour = time_struct[3]\n",
    "        minute = time_struct[4]\n",
    "        second = time_struct[5]\n",
    "        time_str = str(hour).zfill(2) + \" : \" + str(minute).zfill(2) + \" : \" + str(second).zfill(2)\n",
    "        self.current_time.set(time_str)\n",
    "        self.parent.after(1000, self.update_time) #Reset the after function, so that this function is repeatedly each second\n",
    "        "
   ]
  },
  {
   "cell_type": "code",
   "execution_count": 3,
   "metadata": {
    "collapsed": false
   },
   "outputs": [
    {
     "data": {
      "text/plain": [
       "''"
      ]
     },
     "execution_count": 3,
     "metadata": {},
     "output_type": "execute_result"
    }
   ],
   "source": [
    "root = tk.Tk() #The Main window\n",
    "root.title(\"Digital Clock\")\n",
    "root.geometry(\"400x300\")"
   ]
  },
  {
   "cell_type": "code",
   "execution_count": 4,
   "metadata": {
    "collapsed": false
   },
   "outputs": [],
   "source": [
    "t = Clock(root)\n",
    "root.mainloop()"
   ]
  }
 ],
 "metadata": {
  "kernelspec": {
   "display_name": "Python 3",
   "language": "python",
   "name": "python3"
  },
  "language_info": {
   "codemirror_mode": {
    "name": "ipython",
    "version": 3
   },
   "file_extension": ".py",
   "mimetype": "text/x-python",
   "name": "python",
   "nbconvert_exporter": "python",
   "pygments_lexer": "ipython3",
   "version": "3.5.1"
  }
 },
 "nbformat": 4,
 "nbformat_minor": 1
}
