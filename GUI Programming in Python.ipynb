{
 "cells": [
  {
   "cell_type": "markdown",
   "metadata": {},
   "source": [
    "# Introduction to GUI\n",
    "\n",
    "Graphical User Interface(GUI) are a type of human-computer interfaces, which allows the user to give commands to the computer by manipulating graphical components which are displayed on the screen.    \n",
    "\n",
    "GUI's are a replacement, improvement(although some would disagree) over other mechanisms for giving commands to computer such as Text based user interfaces(TUI), Command Line Interfaces(CLI).        \n",
    "\n",
    "It can be argued that GUI's were one of the main reasons for wide spread adoption of computers as it reduced the apparent complexity of computers and made it much simpler for new users to get up and running with their systems and get to solving the problem they faced, rather than dealing with the idiosyncrasies of the system.\n",
    "\n",
    "## Advantages of GUI\n",
    "\n",
    "* Much simpler to get started with a new system, as GUI's are usually designed to be intutive and easy to use.\n",
    "* Are generally the most natural way to interact with certain kind of applications (Such as paint, engineering drawing applications etc.)\n",
    "* Helps the user focus on the work at hand.\n",
    "\n",
    "### A Side Note on CLI's\n",
    "\n",
    "CLI's are not bad, in fact they are the preferred way to do a lot of administrative tasks. What they lack in eye-candy (which a lot of upcoming CLI programs don't) they make up for them in elegance, power and a lot of additional capabilities such as scripting, scheduling etc."
   ]
  },
  {
   "cell_type": "markdown",
   "metadata": {},
   "source": [
    "# GUI - A Programming perspective\n",
    "\n",
    "A GUI Program is quite different from traditional Console based programs in that they don't necessarily follow a linear sequence of execution.         \n",
    "\n",
    "Since GUI's need to respond to user events which can occur asynchronously, this necessitates that the program paradigm be also responsive to the events. This paradigm of programming is commonly referred to as *event-driven programming*.\n",
    "A High level overview of an event-driven program is shown below"
   ]
  },
  {
   "cell_type": "markdown",
   "metadata": {
    "collapsed": false
   },
   "source": [
    "    while True:\n",
    "        event = get_event()\n",
    "        if isinstance(event, EndEvent):\n",
    "            break\n",
    "        else:\n",
    "            execute_event(event)"
   ]
  },
  {
   "cell_type": "markdown",
   "metadata": {},
   "source": [
    "As can be seen from the pseudo-code, a GUI program will continously run so called event-loop in which it continously checks whether an event has occurred and when it does occur responds to the event by executing the event.           \n",
    "*Obviously the Implementation of an event-loop wouldn't be as simple as shown above for the simple fact that the execute_event would block, during which time you're GUI would be unresponsive, threads might be a good starting idea to think about such situations.          \n",
    "Also this [StackOverflow Question](https://stackoverflow.com/questions/658403/how-would-you-implement-a-basic-event-loop) may be a good starting resource to go on that tangent.\n",
    "\n",
    "## Elements of GUI Programming\n",
    "\n",
    "All GUI Programs consists of the following 3 elements        \n",
    "1. Widgets                \n",
    "Widgets (Window-Gadget), these are the visible entities on the screen which the users view or can interact with. These can include things such as buttons, scrollbars, menu's etc.    \n",
    "2. Methods and Classes which manage data and provide functionalities of the program.\n",
    "3. An Event Manager, which listens to the events and calls the respective functions associated with the said events.     \n",
    "\n",
    "\n",
    "The GUI Library usually provides with the event manager, and an inital building blocks of Widgets. Thus the main job in building a GUI Program is to combine the widgets in meaningful ways and crearing the methods and classes to provide required functionalites when the widgets are used in a certain way."
   ]
  },
  {
   "cell_type": "markdown",
   "metadata": {},
   "source": [
    "# Python and GUI Programming\n",
    "\n",
    "The most standard way to create GUI Applications in Python is to use one of the many packages such as `tkinter`, `pyQt`,  `wxPython`, `pyGtk`, which provide bindings to GUI libraries written in other languages. (So technically when you call methods from one of these modules, it calls the underlying code of the GUI library which is written in different language. Refer this [StackOverflow link](https://stackoverflow.com/questions/1475637/how-do-you-bind-a-language-python-for-example-to-another-say-c) for additional information regarding this binding mechanism).   \n",
    "\n",
    "Python's standard library comes with Tcl/Tk. Tcl is a scripting language and Tk is a GUI library written using Tcl and C. Python's `tkinter` module provides bindings for the Tk GUI library.           \n",
    "\n",
    "There are several limitations of using Tk such as:         \n",
    "* Tk doesn't provide any direct way of creating custom widgets from scratch wherein you get to specify pixel-by-pixel what you want. Although you can still create custom widgets, by combining other widgets.       \n",
    "* Some Additional Tk widgets are availble using the Ttk library which is present only with Python 3.1 and Tk 8.5+ and the Tix library which is not provided by default on all systems.\n",
    "\n",
    "Even with all of these limitations, the `tkinter` is the most preferred and logical option if you want to develop cross-platform GUI application, with no additional installations, simply because it comes with all standard installation of Python.\n",
    "\n",
    "The other alternatives can be divided into 2 types.         \n",
    "1. __Platform specific__ in which you access the raw graphics library of the underlying system, this option has the advantage that you can end up with extremely native looking overall application and you also have the maximum freedom in dictating the look and feel of your applications (You can also go full metal, and build your Application by using OpenGL bindings from PyOpenGL or something like that)        \n",
    "2. __Cross Platform__, which are similar to `tkinter`'s binding to Tk. `pyQt` is one of the alternative, but has a weird licensing issue, which needs to be grokked completely before building commercial applications out of it. Other alternatives are `wxPython` and `pyGtk`.             "
   ]
  },
  {
   "cell_type": "markdown",
   "metadata": {},
   "source": [
    "## tkinter\n",
    "\n",
    "### The simplest tkinter program"
   ]
  },
  {
   "cell_type": "code",
   "execution_count": 1,
   "metadata": {
    "collapsed": true
   },
   "outputs": [],
   "source": [
    "#hello_tkinter.pyw\n",
    "\n",
    "import tkinter\n",
    "\n",
    "root = tkinter.Tk() #Create a root window of tkinter GUI\n",
    "root.mainloop() #Start the mainloop (The event-loop described above)"
   ]
  },
  {
   "cell_type": "markdown",
   "metadata": {},
   "source": [
    "As can be seen in the above program, the method `Tk` of the `tkinter` module creates a high level window (root window). A window is a widget that has no parent widget, all other widgets have an associated parent widget. The mainloop method of the root window is basically the event-loop described above, it handles all the events that happen when the GUI is running.             \n",
    "As mentioned earlier all of the visual elements visible in the GUI are created using widgets, `tkinter` has a lot of built in widgets, which can be combined to build many complex GUI applications, some of them are described below.        \n",
    "Do note that all of the widgets described below have a lot of options to configure them, not all of them are shown below. For a full list of available options refer to the documentation."
   ]
  },
  {
   "cell_type": "markdown",
   "metadata": {},
   "source": [
    "### Labels\n",
    "\n",
    "Labels are used to display short pieces of text, which cannot be directly mutated by the user.          "
   ]
  },
  {
   "cell_type": "code",
   "execution_count": 2,
   "metadata": {
    "collapsed": false
   },
   "outputs": [],
   "source": [
    "#labels.pyw\n",
    "\n",
    "import tkinter\n",
    "\n",
    "root = tkinter.Tk() \n",
    "root.title(\"Labels Example\") #Set the title of the Window\n",
    "root.geometry(\"400x300\") #Set the default geometry of the Window\n",
    "label = tkinter.Label(root, text=\"Hello World!\") \n",
    "label.pack()\n",
    "\n",
    "root.mainloop()"
   ]
  },
  {
   "cell_type": "markdown",
   "metadata": {},
   "source": [
    "The method `pack` which is present in all the widgets is a Geometry Manager, it is used to arrange the widget inside the parent(in this case `root`) and resize the parent if necessary."
   ]
  },
  {
   "cell_type": "markdown",
   "metadata": {},
   "source": [
    "### Frames\n",
    "\n",
    "Frames are widgets that contain other widgets, they are not directly visible on the screen but are used to organize other widget."
   ]
  },
  {
   "cell_type": "code",
   "execution_count": 3,
   "metadata": {
    "collapsed": true
   },
   "outputs": [],
   "source": [
    "import tkinter as tk\n",
    "\n",
    "root = tk.Tk()\n",
    "root.title(\"Frame Example\")\n",
    "root.geometry(\"400x300\")\n",
    "f = tk.Frame(root) #The frame's parent is the root\n",
    "hello_label = tk.Label(f, text = \"Hello!\") #The Parent of this label is not the root window, but frame f\n",
    "bye_label = tk.Label(f, text = \"Bye!\") #As above\n",
    "\n",
    "hello_label.pack()\n",
    "bye_label.pack()\n",
    "f.pack()\n",
    "\n",
    "root.mainloop()"
   ]
  },
  {
   "cell_type": "markdown",
   "metadata": {},
   "source": [
    "### Buttons\n",
    "\n",
    "Buttons are clickable widgets, which are usually used by users to indicate an explicit action request."
   ]
  },
  {
   "cell_type": "code",
   "execution_count": 4,
   "metadata": {
    "collapsed": false
   },
   "outputs": [],
   "source": [
    "import tkinter as tk\n",
    "\n",
    "root = tk.Tk()\n",
    "root.title(\"Buttons Example\")\n",
    "root.geometry(\"400x300\")\n",
    "\n",
    "b1 = tk.Button(root, text = \"Button 1\")\n",
    "b2 = tk.Button(root, text = \"Button 2\")\n",
    "\n",
    "b1.grid(row = 0, column = 0)\n",
    "b2.grid(row = 0, column = 1)\n",
    "\n",
    "root.mainloop()"
   ]
  },
  {
   "cell_type": "markdown",
   "metadata": {},
   "source": [
    "The example above also shows another type of geometry manager, the grid Geometry manager. It arranges the widgets in a grid fashion and the widgets can specify which row and column they want to be placed in."
   ]
  },
  {
   "cell_type": "markdown",
   "metadata": {},
   "source": [
    "## Event Binding\n",
    "\n",
    "As described earlier the prominent feature of GUI Programming is that it is event driven. The primary mechanism by which this is achieved is by binding events with the associated methods that needs to be called when the event happens.          \n",
    "This is illustrated in the below example:"
   ]
  },
  {
   "cell_type": "code",
   "execution_count": 5,
   "metadata": {
    "collapsed": false
   },
   "outputs": [],
   "source": [
    "import tkinter as tk\n",
    "\n",
    "root = tk.Tk()\n",
    "root.title(\"Clicker Counter\")\n",
    "root.geometry(\"400x300\")\n",
    "\n",
    "data = tk.StringVar()\n",
    "data.set(\"0\")\n",
    "\n",
    "def count_up():\n",
    "    global var\n",
    "    num = int(data.get())\n",
    "    data.set(str(num + 1))\n",
    "    \n",
    "\n",
    "def count_down():\n",
    "    global var\n",
    "    num = int(data.get())\n",
    "    data.set(str(num - 1))\n",
    "\n",
    "up = tk.Button(root, text = \"+\", command=count_up).grid(row = 0, column = 0)\n",
    "point_label = tk.Label(root, textvariable = data).grid(row = 0, column = 1)\n",
    "down = tk.Button(root, text = \"-\", command = count_down).grid(row = 0, column = 2)\n",
    "\n",
    "root.mainloop()\n"
   ]
  },
  {
   "cell_type": "markdown",
   "metadata": {},
   "source": [
    "As can be seen in the above example. a function is bound to an event (In this case a button click) via the command parameter of the widget.          \n",
    "These functions are called as callback functions, as these functions are called asynchronously whenever it's associated event occurs."
   ]
  },
  {
   "cell_type": "markdown",
   "metadata": {},
   "source": [
    "## Some Notes during Programming\n",
    "\n",
    "* Saving tkinter programs with .pyw extension ensures that on windows the pythonw.exe interpreter is used, which makes sure that no unnecessary console window will appear.\n",
    "* When configuring Widgets, always used name paramters (such as text = \"hello\")\n",
    "* You can't use a Grid geometry manager inside a frame which already has slaves managed by the Pack geometry manager."
   ]
  },
  {
   "cell_type": "markdown",
   "metadata": {},
   "source": [
    "# Resources\n",
    "\n",
    "* http://effbot.org/tkinterbook/ : Probably the best reference for Tkinter on the Internet"
   ]
  },
  {
   "cell_type": "markdown",
   "metadata": {},
   "source": [
    "# To-Do\n",
    "\n",
    "<input type=\"checkbox\"> Transitioning from one window to another</input>          \n",
    "<input type=\"checkbox\"> Arranging code in Object Oriented Way</input>           \n",
    "<input type=\"checkbox\"> Mutable variables</input>              \n",
    "<input type=\"checkbox\"> Simplify counter with lambdas</input>\n"
   ]
  }
 ],
 "metadata": {
  "kernelspec": {
   "display_name": "Python 3",
   "language": "python",
   "name": "python3"
  },
  "language_info": {
   "codemirror_mode": {
    "name": "ipython",
    "version": 3
   },
   "file_extension": ".py",
   "mimetype": "text/x-python",
   "name": "python",
   "nbconvert_exporter": "python",
   "pygments_lexer": "ipython3",
   "version": "3.5.1"
  }
 },
 "nbformat": 4,
 "nbformat_minor": 1
}
